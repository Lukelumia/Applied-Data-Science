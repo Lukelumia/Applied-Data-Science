{
 "cells": [
  {
   "cell_type": "code",
   "execution_count": null,
   "metadata": {},
   "outputs": [],
   "source": [
    "import matplotlib.pyplot as plt\n",
    "import pandas as pd\n",
    "from scipy.special import expit as logit\n",
    "import numpy as np"
   ]
  },
  {
   "cell_type": "code",
   "execution_count": null,
   "metadata": {},
   "outputs": [],
   "source": [
    "# Visualize the data\n",
    "def scatter():\n",
    "    wine_good = wines.where(wines.good)\n",
    "    wine_bad  = wines.where(~wines.good)\n",
    "    plt.plot(wine_good.alcohol, wine_good.pH, '.', color='green', markersize=2)\n",
    "    plt.plot(wine_bad.alcohol, wine_bad.pH, '.', color='red', markersize=2)\n",
    "    plt.title('Good/bad wine')\n",
    "    plt.ylabel('pH')\n",
    "    plt.xlabel('alcohol percentage')\n",
    "\n",
    "# Calculate the hypothese\n",
    "def h(X, theta):\n",
    "    return logit(X * theta)\n",
    "\n",
    "# Predict stuff\n",
    "def predict(X, theta):\n",
    "    return h(X, theta) >= 0.5\n",
    "\n",
    "def fit_model(X, y, alpha=0.00001, iterations=50000):\n",
    "    m = X.shape[1]            # het aantal coefficienten\n",
    "    theta = np.zeros((m, 1))  # initialiseer theta\n",
    "    for iter in range(iterations):\n",
    "        theta -= (alpha / m) * X.T * ( h(X, theta) - y )\n",
    "    return theta\n",
    "\n",
    "def evaluate(theta, X, y):\n",
    "    return sum( predict(X, theta) == y ) / len(X)\n",
    "\n",
    "def plot_decision_boundary(theta):\n",
    "    ax = plt.gca()\n",
    "    x_min, x_max = ax.get_xlim()\n",
    "    y_min, y_max = ax.get_ylim()\n",
    "    xx, yy = np.meshgrid(np.arange(x_min, x_max, 0.1),\n",
    "                         np.arange(y_min, y_max, 0.1))\n",
    "\n",
    "    X = np.matrix(np.vstack([np.ones(xx.shape[0] * xx.shape[1]), xx.ravel(), yy.ravel()])).T\n",
    "    boundary = logit(X * theta)\n",
    "    boundary = boundary.reshape(xx.shape)\n",
    "\n",
    "    ax.contour(xx, yy,\n",
    "           boundary,\n",
    "           levels=[0.5])"
   ]
  },
  {
   "cell_type": "code",
   "execution_count": null,
   "metadata": {},
   "outputs": [],
   "source": []
  }
 ],
 "metadata": {
  "kernelspec": {
   "display_name": "Python 3",
   "language": "python",
   "name": "python3"
  },
  "language_info": {
   "codemirror_mode": {
    "name": "ipython",
    "version": 3
   },
   "file_extension": ".py",
   "mimetype": "text/x-python",
   "name": "python",
   "nbconvert_exporter": "python",
   "pygments_lexer": "ipython3",
   "version": "3.6.6"
  }
 },
 "nbformat": 4,
 "nbformat_minor": 2
}
