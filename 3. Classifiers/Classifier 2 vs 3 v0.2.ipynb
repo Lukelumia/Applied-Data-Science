{
 "cells": [
  {
   "cell_type": "code",
   "execution_count": 2,
   "metadata": {},
   "outputs": [],
   "source": [
    "import numpy as np\n",
    "import pandas as pd\n",
    "import matplotlib.pyplot as plt\n",
    "from mpl_toolkits.mplot3d import Axes3D\n",
    "import time\n",
    "%matplotlib notebook\n",
    "import seaborn as sns\n",
    "from scipy.special import expit as logit\n",
    "from sklearn.model_selection import train_test_split\n",
    "from scipy.special import expit as sigmoid # is more stable in case of overflows\n",
    "from sklearn.linear_model import LogisticRegression\n",
    "from sklearn.neighbors import KNeighborsClassifier\n",
    "from sklearn import metrics\n",
    "from sklearn.linear_model import LinearRegression\n",
    "from sklearn.metrics import mean_squared_error, \\\n",
    "recall_score, precision_score, accuracy_score, confusion_matrix\n",
    "import math\n"
   ]
  },
  {
   "cell_type": "markdown",
   "metadata": {},
   "source": [
    "# Prepare data"
   ]
  },
  {
   "cell_type": "code",
   "execution_count": 3,
   "metadata": {
    "scrolled": true
   },
   "outputs": [],
   "source": [
    "df_cleaned = pd.read_csv('/data/ortho/AllPatients.csv',  sep= ';')\n"
   ]
  },
  {
   "cell_type": "code",
   "execution_count": 4,
   "metadata": {
    "scrolled": true
   },
   "outputs": [],
   "source": [
    "# bereken symmetrie\n",
    "df_cleaned['clavicula_x_dif'] = np.absolute(df_cleaned['clavicula_l_x'] - df_cleaned['clavicula_r_x'])\n",
    "df_cleaned['clavicula_y_dif'] = np.absolute(df_cleaned['clavicula_l_y'] - df_cleaned['clavicula_r_y'])\n",
    "df_cleaned['clavicula_z_dif'] = np.absolute(df_cleaned['clavicula_l_z'] - df_cleaned['clavicula_r_z'])\n",
    "\n",
    "df_cleaned['scapula_x_dif'] = np.absolute(df_cleaned['scapula_l_x'] - df_cleaned['scapula_r_x'])\n",
    "df_cleaned['scapula_y_dif'] = np.absolute(df_cleaned['scapula_l_y'] - df_cleaned['scapula_r_y'])\n",
    "df_cleaned['scapula_z_dif'] = np.absolute(df_cleaned['scapula_l_z'] - df_cleaned['scapula_r_z'])\n",
    "\n",
    "df_cleaned['humerus_x_dif'] = np.absolute(df_cleaned['humerus_l_x'] - df_cleaned['humerus_r_x'])\n",
    "df_cleaned['humerus_y_dif'] = np.absolute(df_cleaned['humerus_l_y'] - df_cleaned['humerus_r_y'])\n",
    "df_cleaned['humerus_z_dif'] = np.absolute(df_cleaned['humerus_l_z'] - df_cleaned['humerus_r_z'])\n",
    "\n",
    "# hulp array, met alle parameters die voor de classifier gebruikt worden, je kan hier alles in doen wat je wilt\n",
    "param = [ \\\n",
    "          'humerus_l_x', 'humerus_l_y', 'humerus_l_z', 'humerus_r_x', 'humerus_r_y', 'humerus_r_z', \\\n",
    "          'clavicula_l_x', 'clavicula_l_y', 'clavicula_l_z', 'clavicula_r_x', 'clavicula_r_y', 'clavicula_r_z', \\\n",
    "          'scapula_l_x', 'scapula_l_y', 'scapula_l_z', 'scapula_r_x', 'scapula_r_y', 'scapula_r_z', \\\n",
    "          'clavicula_x_dif','clavicula_y_dif','clavicula_z_dif', \\\n",
    "          'scapula_x_dif','scapula_y_dif','scapula_z_dif', \\\n",
    "          'humerus_x_dif', 'humerus_y_dif', 'humerus_z_dif'\n",
    "         ]\n",
    "\n",
    "df_cleaned['bias'] = 1\n",
    "\n",
    "# split oorsprong kolom in onderdelen\n",
    "x,y = df_cleaned['Oorsprong'].str.split(\".\").str #Oordprong word vertaald naar een string en wordt gesplits op de punt\n",
    "df_cleaned['cat'],df_cleaned['pat'],df_cleaned['meting'],df_cleaned['oef'] = x.str.split(\"_\").str #4 categorieen gemaakt obv file name\n",
    "df_cleaned['cat'] = [ int(x[3:]) for x in df_cleaned['cat']] #voor elk 3+ element in de kolom wordt vertaald naar een int\n",
    "df_cleaned['meting'] = [ int(x[6:]) for x in df_cleaned['meting']] \n",
    "df_cleaned['oef'] = [ int(x[3:]) for x in df_cleaned['oef']] \n",
    "df_cleaned['pat'] = [ int(x[3:]) for x in df_cleaned['pat']] \n",
    "#na deze regels te hebben uitgevoerd zijn er nieuwe categorieen met ints.\n",
    "\n",
    "df_cleaned['pat'] = df_cleaned['cat']*1000+df_cleaned['pat'] #geef elke patient een uniek nummer\n",
    "\n",
    "#maak boolean kolom per categorie\n",
    "df_cleaned['c4'] = ['Cat4' in vincent for vincent in df_cleaned['Oorsprong']]\n",
    "df_cleaned['c3'] = ['Cat3' in vincent for vincent in df_cleaned['Oorsprong']]\n",
    "df_cleaned['c2'] = ['Cat2' in vincent for vincent in df_cleaned['Oorsprong']]\n",
    "df_cleaned['c1'] = ['Cat1' in vincent for vincent in df_cleaned['Oorsprong']]\n",
    "\n",
    "df_cleaned['y'] = [('Cat1' or 'Cat2') in vincent for vincent in df_cleaned['Oorsprong']]\n",
    "\n",
    "\n",
    "# df_cleaned = df_cleaned[~df_cleaned.c3]\n",
    "# df_cleaned = df_cleaned[~df_cleaned.c2]\n",
    "\n",
    "\n",
    "\n",
    "Xcolumns = ['bias']\n",
    "Xcolumns.extend(param)\n",
    "\n",
    "X = df_cleaned[Xcolumns]\n",
    "y = df_cleaned['y']\n"
   ]
  },
  {
   "cell_type": "code",
   "execution_count": 4,
   "metadata": {
    "scrolled": false
   },
   "outputs": [
    {
     "name": "stderr",
     "output_type": "stream",
     "text": [
      "/opt/jupyterhub/anaconda/lib/python3.6/site-packages/sklearn/linear_model/logistic.py:432: FutureWarning: Default solver will be changed to 'lbfgs' in 0.22. Specify a solver to silence this warning.\n",
      "  FutureWarning)\n"
     ]
    },
    {
     "name": "stdout",
     "output_type": "stream",
     "text": [
      "[-2.15283181  0.02505178  0.03126563  0.02572596 -0.01942919  0.00475239\n",
      " -0.03069388 -0.09587018 -0.07563774 -0.04825915  0.04745688  0.1127199\n",
      "  0.06812448 -0.0447838  -0.10926716  0.01746892  0.04860239 -0.08211895\n",
      " -0.03583993 -0.03594507 -0.07128507 -0.11013998  0.01022334  0.05383951\n",
      "  0.01797442 -0.00705636 -0.04644432 -0.01875265]\n",
      "              pos    neg\n",
      "0  pred pos  3693   1433\n",
      "1  pred neg  3039  26124\n",
      "\n",
      "recall:  0.5485739750445633\n",
      "precision:  0.7204447912602419\n",
      "accuracy:  0.8695791653299892\n",
      "\n",
      "\n",
      "\n"
     ]
    }
   ],
   "source": [
    "\n",
    "X_train, X_test, y_train, y_test = train_test_split(X, y, test_size = 0.2, random_state=42)\n",
    "\n",
    "lr = LogisticRegression()\n",
    "lr.fit(X_train, y_train)\n",
    "\n",
    "y_true = y_test\n",
    "y_pred = lr.predict(X_test)\n",
    "\n",
    "TN, FP, FN, TP = confusion_matrix(y_true, y_pred).ravel()\n",
    "\n",
    "print(lr.coef_[0])\n",
    "\n",
    "tab = [[\"pred pos\", TP, FP], [\"pred neg\", FN, TN]]\n",
    "print(pd.DataFrame(tab, columns=[\"\", \"pos\", \"neg\"]))\n",
    "print()\n",
    "print(\"recall: \", recall_score(y_true, y_pred))\n",
    "print(\"precision: \", precision_score(y_true, y_pred))\n",
    "print(\"accuracy: \", accuracy_score(y_true, y_pred.round().astype(bool)))\n",
    "print('\\n\\n')\n",
    "\n",
    "\n"
   ]
  },
  {
   "cell_type": "code",
   "execution_count": 5,
   "metadata": {},
   "outputs": [
    {
     "name": "stdout",
     "output_type": "stream",
     "text": [
      "[False False False ... False False False]\n"
     ]
    }
   ],
   "source": [
    "print(y_pred)"
   ]
  },
  {
   "cell_type": "code",
   "execution_count": 6,
   "metadata": {},
   "outputs": [
    {
     "data": {
      "text/plain": [
       "array([False, False, False, ..., False, False, False])"
      ]
     },
     "execution_count": 6,
     "metadata": {},
     "output_type": "execute_result"
    }
   ],
   "source": [
    "y_pred.round().astype(bool)"
   ]
  },
  {
   "cell_type": "code",
   "execution_count": null,
   "metadata": {},
   "outputs": [],
   "source": []
  }
 ],
 "metadata": {
  "kernelspec": {
   "display_name": "Python 3",
   "language": "python",
   "name": "python3"
  },
  "language_info": {
   "codemirror_mode": {
    "name": "ipython",
    "version": 3
   },
   "file_extension": ".py",
   "mimetype": "text/x-python",
   "name": "python",
   "nbconvert_exporter": "python",
   "pygments_lexer": "ipython3",
   "version": "3.6.6"
  }
 },
 "nbformat": 4,
 "nbformat_minor": 2
}
