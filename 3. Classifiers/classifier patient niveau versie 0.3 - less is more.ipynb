{
 "cells": [
  {
   "cell_type": "code",
   "execution_count": 1,
   "metadata": {},
   "outputs": [],
   "source": [
    "import pandas as pd\n",
    "import numpy as np\n",
    "from os import listdir\n",
    "\n",
    "from sklearn.linear_model import LogisticRegression\n",
    "from sklearn.model_selection import train_test_split\n",
    "from sklearn import metrics\n",
    "import random\n",
    "import math"
   ]
  },
  {
   "cell_type": "code",
   "execution_count": 2,
   "metadata": {},
   "outputs": [],
   "source": [
    "def HeaderMaker(PatientFile):\n",
    "    df_cleaned = pd.read_csv('/data/ortho/' + PatientFile, header=None)\n",
    "\n",
    "    df_cleaned = df_cleaned.rename(columns={0: \"thorax_r_x\", 1: \"thorax_r_y\", 2: \"thorax_r_z\"})\n",
    "    df_cleaned = df_cleaned.rename(columns={3: \"clavicula_r_x\", 4: \"clavicula_r_y\", 5: \"clavicula_r_z\"})\n",
    "    df_cleaned = df_cleaned.rename(columns={6: \"scapula_r_x\", 7: \"scapula_r_y\", 8: \"scapula_r_z\"})\n",
    "    df_cleaned = df_cleaned.rename(columns={9: \"humerus_r_x\", 10: \"humerus_r_y\", 11: \"humerus_r_z\"})\n",
    "    df_cleaned = df_cleaned.rename(columns={12: \"ellebooghoek_r\"})\n",
    "    df_cleaned = df_cleaned.rename(columns={15: \"thorax_l_x\", 16: \"thorax_l_y\", 17: \"thorax_l_z\"})\n",
    "    df_cleaned = df_cleaned.rename(columns={18: \"clavicula_l_x\", 19: \"clavicula_l_y\", 20: \"clavicula_l_z\"})\n",
    "    df_cleaned = df_cleaned.rename(columns={21: \"scapula_l_x\", 22: \"scapula_l_y\", 23: \"scapula_l_z\"})\n",
    "    df_cleaned = df_cleaned.rename(columns={24: \"humerus_l_x\", 25: \"humerus_l_y\", 26: \"humerus_l_z\"})\n",
    "    df_cleaned = df_cleaned.rename(columns={27: \"ellebooghoek_l\"})\n",
    "    \n",
    "    return df_cleaned"
   ]
  },
  {
   "cell_type": "code",
   "execution_count": 3,
   "metadata": {
    "scrolled": true
   },
   "outputs": [
    {
     "name": "stdout",
     "output_type": "stream",
     "text": [
      "Skipping: StudentNummers\n",
      "Skipping: testset\n",
      "Skipping: AllPatients.csv\n",
      "Skipping: TestDataAllPatients.csv\n"
     ]
    }
   ],
   "source": [
    "\n",
    "Patients = {}\n",
    "testdataurl = '/data/ortho/'\n",
    "for PatientFile in listdir(testdataurl):\n",
    "    if ('meting' not in PatientFile):\n",
    "        print('Skipping: %s' % PatientFile)\n",
    "        # Skip this iteration\n",
    "        continue\n",
    "    Splitted = PatientFile.split('_')\n",
    "    Patient = Splitted[0] + '_' + Splitted[1]\n",
    "\n",
    "    Data = HeaderMaker(PatientFile)\n",
    "    MaxDict = Data.max().to_dict() # .abs() for absolute numbers\n",
    "    \n",
    "    if(Patient not in Patients.keys()):\n",
    "        Patients[Patient] = MaxDict\n",
    "        Patients[Patient]['GroundTruth'] = Splitted[0].split('Cat')[1]\n",
    "        Patients[Patient]['Bias'] = 0\n",
    "        continue\n",
    "    \n",
    "    for key in MaxDict.keys():\n",
    "        Patients[Patient][key]= max(Patients[Patient][key],MaxDict[key])\n",
    "        \n",
    "\n",
    "    \n",
    "    \n",
    "            \n",
    "            \n",
    "            \n",
    "            "
   ]
  },
  {
   "cell_type": "code",
   "execution_count": 4,
   "metadata": {
    "scrolled": true
   },
   "outputs": [],
   "source": [
    "df = pd.DataFrame.from_dict(Patients, orient='index')\n",
    "# print(df.columns.values)\n",
    "# df = df[['Cat2' in index or 'Cat3' in index for index in df.index]] # Welke colommen wil je houden\n",
    "\n",
    "# df['TrueFalse'] = ['2' == i for i in df['GroundTruth']]\n",
    "\n",
    "# print(df.head())"
   ]
  },
  {
   "cell_type": "code",
   "execution_count": 5,
   "metadata": {},
   "outputs": [],
   "source": [
    "Xcolumns = ['Bias']\n",
    "Xcolumns.extend(['thorax_r_x', 'thorax_r_y', 'thorax_r_z', 'clavicula_r_x', 'clavicula_r_y',\n",
    " 'clavicula_r_z', 'scapula_r_x', 'scapula_r_y', 'scapula_r_z', 'humerus_r_x',\n",
    " 'humerus_r_y', 'humerus_r_z', 'ellebooghoek_r', 'thorax_l_x',\n",
    " 'thorax_l_y', 'thorax_l_z', 'clavicula_l_x', 'clavicula_l_y', 'clavicula_l_z',\n",
    " 'scapula_l_x', 'scapula_l_y', 'scapula_l_z', 'humerus_l_x', 'humerus_l_y',\n",
    " 'humerus_l_z', 'ellebooghoek_l'])\n",
    "\n",
    "# X = df[Xcolumns]\n",
    "# y = df[['GroundTruth']]\n",
    "\n",
    "\n"
   ]
  },
  {
   "cell_type": "code",
   "execution_count": 6,
   "metadata": {},
   "outputs": [
    {
     "name": "stdout",
     "output_type": "stream",
     "text": [
      "['1' '2' '3' '4']\n"
     ]
    }
   ],
   "source": [
    "print(df['GroundTruth'].unique())"
   ]
  },
  {
   "cell_type": "code",
   "execution_count": 7,
   "metadata": {},
   "outputs": [
    {
     "name": "stdout",
     "output_type": "stream",
     "text": [
      "Final Percentage test: 0.1797752808988764\n"
     ]
    }
   ],
   "source": [
    "def Patient_test_split(dataframe, xcol, ycol, Percentage):\n",
    "    allIndex = np.unique(df.index.tolist()) # Get all unique patients id's\n",
    "    random.seed(2) # Set random seeed so the answer is the same\n",
    "    \n",
    "    PercentageIndex = []\n",
    "    for i in df['GroundTruth'].unique(): # Cycle through each categorie (only cycles through the ones that are present)\n",
    "        CatPatients = np.array([i.split('_')[0].split('Cat')[1] for i in allIndex])\n",
    "        CatPatients = CatPatients[CatPatients==i]\n",
    "        \n",
    "        AmountItems = len(CatPatients)\n",
    "        AmountRandom = math.floor(AmountItems*Percentage)\n",
    "        PercentageIndex.extend(random.sample(list(CatPatients), AmountRandom))        \n",
    "        \n",
    "    AmountItems = len(allIndex)\n",
    "    AmountRandom = math.floor(AmountItems*Percentage)\n",
    "    \n",
    "    PercentageIndex = random.sample(list(allIndex), AmountRandom)\n",
    "    \n",
    "    Percentagedf = df[xcol][df.index.isin(PercentageIndex)]\n",
    "    Percentagey = df[ycol][df.index.isin(PercentageIndex)]\n",
    "    \n",
    "    Testdf = df[xcol][~df.index.isin(PercentageIndex)]\n",
    "    Testy = df[ycol][~df.index.isin(PercentageIndex)]\n",
    "    print('Final Percentage test: %s' % (len(Testdf)/len(Percentagedf)))\n",
    "    return (Percentagedf, Testdf, Percentagey, Testy)\n",
    "\n",
    "X_train, X_test, y_train, y_test = Patient_test_split(df, Xcolumns, 'GroundTruth', 0.85)"
   ]
  },
  {
   "cell_type": "code",
   "execution_count": 8,
   "metadata": {},
   "outputs": [
    {
     "name": "stdout",
     "output_type": "stream",
     "text": [
      "89 16\n"
     ]
    }
   ],
   "source": [
    "print(len(X_train), len(X_test))"
   ]
  },
  {
   "cell_type": "code",
   "execution_count": 9,
   "metadata": {},
   "outputs": [],
   "source": [
    "# X_train, X_test, y_train, y_test = train_test_split(X, y, test_size = 0.2, random_state=42)"
   ]
  },
  {
   "cell_type": "code",
   "execution_count": 10,
   "metadata": {},
   "outputs": [
    {
     "name": "stderr",
     "output_type": "stream",
     "text": [
      "/opt/jupyterhub/anaconda/lib/python3.6/site-packages/sklearn/linear_model/logistic.py:432: FutureWarning: Default solver will be changed to 'lbfgs' in 0.22. Specify a solver to silence this warning.\n",
      "  FutureWarning)\n",
      "/opt/jupyterhub/anaconda/lib/python3.6/site-packages/sklearn/linear_model/logistic.py:459: FutureWarning: Default multi_class will be changed to 'auto' in 0.22. Specify the multi_class option to silence this warning.\n",
      "  \"this warning.\", FutureWarning)\n"
     ]
    },
    {
     "data": {
      "text/plain": [
       "LogisticRegression(C=1.0, class_weight=None, dual=False, fit_intercept=True,\n",
       "          intercept_scaling=1, max_iter=100, multi_class='warn',\n",
       "          n_jobs=None, penalty='l2', random_state=None, solver='warn',\n",
       "          tol=0.0001, verbose=0, warm_start=False)"
      ]
     },
     "execution_count": 10,
     "metadata": {},
     "output_type": "execute_result"
    }
   ],
   "source": [
    "lr = LogisticRegression()\n",
    "lr.fit(X_train, y_train)"
   ]
  },
  {
   "cell_type": "code",
   "execution_count": 11,
   "metadata": {},
   "outputs": [
    {
     "name": "stdout",
     "output_type": "stream",
     "text": [
      "[ 0.00000000e+00 -2.68809879e-01 -1.83328002e-01 -1.65797670e-01\n",
      "  2.89572322e-02  2.82719682e-01  1.41958743e-01  5.57515112e-02\n",
      " -1.04402045e-01 -2.01384418e-01 -1.52717496e-02  2.56102077e-01\n",
      " -3.54379245e-02 -1.82435968e-04 -2.68809879e-01  2.55939653e-02\n",
      " -2.18431373e-01 -1.58411910e-01 -3.18493185e-01 -1.76325480e-03\n",
      " -1.22925231e-01 -3.21649224e-01 -7.58086366e-03 -1.61328203e-01\n",
      " -8.21607908e-02  6.07288012e-02  8.70534215e-05]\n",
      "0.5\n",
      "Cat1_pat12    1\n",
      "Cat1_pat3     1\n",
      "Cat1_pat7     1\n",
      "Cat2_pat1     2\n",
      "Cat2_pat10    2\n",
      "Cat2_pat12    2\n",
      "Cat2_pat20    2\n",
      "Cat2_pat26    2\n",
      "Cat2_pat31    2\n",
      "Cat2_pat34    2\n",
      "Cat2_pat6     2\n",
      "Cat3_pat15    3\n",
      "Cat3_pat20    3\n",
      "Cat3_pat25    3\n",
      "Cat3_pat26    3\n",
      "Cat3_pat37    3\n",
      "Name: GroundTruth, dtype: object\n"
     ]
    }
   ],
   "source": [
    "y_pred = lr.predict(X_test)\n",
    "print(lr.coef_[0])\n",
    "print(metrics.accuracy_score(y_test, y_pred))\n",
    "print(y_test)"
   ]
  },
  {
   "cell_type": "code",
   "execution_count": 15,
   "metadata": {
    "scrolled": true
   },
   "outputs": [
    {
     "name": "stdout",
     "output_type": "stream",
     "text": [
      "              precision    recall  f1-score   support\n",
      "\n",
      "           1       0.67      0.67      0.67         3\n",
      "           2       1.00      0.12      0.22         8\n",
      "           3       0.50      1.00      0.67         5\n",
      "           4       0.00      0.00      0.00         0\n",
      "\n",
      "   micro avg       0.50      0.50      0.50        16\n",
      "   macro avg       0.54      0.45      0.39        16\n",
      "weighted avg       0.78      0.50      0.44        16\n",
      "\n"
     ]
    },
    {
     "name": "stderr",
     "output_type": "stream",
     "text": [
      "/opt/jupyterhub/anaconda/lib/python3.6/site-packages/sklearn/metrics/classification.py:1145: UndefinedMetricWarning: Recall and F-score are ill-defined and being set to 0.0 in labels with no true samples.\n",
      "  'recall', 'true', average, warn_for)\n"
     ]
    }
   ],
   "source": [
    "from sklearn.metrics import mean_squared_error, \\\n",
    "recall_score, precision_score, accuracy_score, confusion_matrix\n",
    "\n",
    "y_true = y_test\n",
    "y_pred =lr.predict(X_test)\n",
    "\n",
    "print(metrics.classification_report(y_true, y_pred))"
   ]
  },
  {
   "cell_type": "code",
   "execution_count": 16,
   "metadata": {},
   "outputs": [
    {
     "name": "stdout",
     "output_type": "stream",
     "text": [
      "            thorax_r_x  thorax_r_y  thorax_r_z  clavicula_r_x  clavicula_r_y  \\\n",
      "Cat1_pat1    13.663678    2.179559    1.732670      12.444494      59.705033   \n",
      "Cat1_pat10   -0.989045    1.973656   -1.828659      -0.041210      44.600980   \n",
      "Cat1_pat11    4.897893    4.136994    3.735479      -8.096654      33.784876   \n",
      "Cat1_pat12    0.746364    1.606608    0.696937     -25.972016      20.651558   \n",
      "Cat1_pat13    2.312612    4.934213   -0.315249     -10.660820      37.444309   \n",
      "Cat1_pat14    4.162713    5.058497    4.803960      -7.861483      34.299972   \n",
      "Cat1_pat15    2.286132    4.285242    5.074372     -18.481031      43.643171   \n",
      "Cat1_pat16    0.356370    2.071765    2.271676      -7.684299      33.370916   \n",
      "Cat1_pat17    8.925056    6.575340    1.149593     -16.410715      32.036554   \n",
      "Cat1_pat18    0.134793   -0.103062   -0.050370     -10.625133      49.649160   \n",
      "Cat1_pat19    1.394970    4.273942    3.573050      -9.331682      37.832953   \n",
      "Cat1_pat2    -4.619013   -1.060508    6.685508     -21.738739      25.970675   \n",
      "Cat1_pat20   18.682611    2.045509   -0.991561     -16.910237      51.207037   \n",
      "Cat1_pat21    4.879177   -1.814570   -1.350003      -9.196199      36.372825   \n",
      "Cat1_pat22   13.157385    9.669069    0.795319      -3.081489      40.077085   \n",
      "Cat1_pat23   -4.316212   -4.599941    0.428951       0.134490      23.620456   \n",
      "Cat1_pat24   10.779128   -0.595653   -2.019152       2.051785      39.077829   \n",
      "Cat1_pat26    9.719722   -1.334125    3.855708       9.328703      48.403488   \n",
      "Cat1_pat27    9.788040    5.242048   -1.686354     -20.657986      50.956731   \n",
      "Cat1_pat29    4.174447   -0.861066    1.336750      -5.812959      58.704605   \n",
      "Cat1_pat3    22.764581    5.012807    3.871127       5.936556      40.233990   \n",
      "Cat1_pat30    5.579521   -0.247947    2.063528      -7.663911      46.877613   \n",
      "Cat1_pat4    15.591305    6.148373    3.801991      -9.128818      39.827560   \n",
      "Cat1_pat5     4.332877    5.568861   -0.379457     -16.473346      29.274993   \n",
      "Cat1_pat6     9.103917   -1.323977    1.912088     -15.661696      26.430129   \n",
      "Cat1_pat7     1.494598    3.989663   -2.799541     -15.138232      18.719435   \n",
      "Cat1_pat8     9.334974    6.196789    2.825522     -19.436867      38.921715   \n",
      "Cat2_pat1    13.725850    8.327290    7.104038      -7.856973      40.146607   \n",
      "Cat2_pat10   20.894410    7.823451   -0.184017      17.318489      30.629881   \n",
      "Cat2_pat11   17.321307    4.702481   -2.233889      -4.612755      34.814425   \n",
      "...                ...         ...         ...            ...            ...   \n",
      "Cat3_pat24   15.206530    7.297982    6.822241      -6.847878      39.042100   \n",
      "Cat3_pat25   13.993270   10.372989    4.160094      -2.622115      57.147367   \n",
      "Cat3_pat26   22.016716   10.735212    4.592644      25.516864      42.421501   \n",
      "Cat3_pat27   22.960680    3.776964    7.043700      -2.363581      30.699696   \n",
      "Cat3_pat28   10.799500   22.237365   17.400233      -5.497780      28.033140   \n",
      "Cat3_pat29   10.677808    6.494026    8.187401      22.403235      60.367719   \n",
      "Cat3_pat3    17.443978   12.251866   14.354209       7.759462      40.555552   \n",
      "Cat3_pat30   25.872226   14.915721    8.149717       8.299003      68.014726   \n",
      "Cat3_pat31   27.991223   13.818446    8.231866       1.452725      36.350648   \n",
      "Cat3_pat32    8.969731    6.829957    0.778295     -10.339539      33.720454   \n",
      "Cat3_pat33   18.660472   22.578448    9.349650      -7.230871      35.323275   \n",
      "Cat3_pat34   21.288704   14.801398    2.337365     -15.254006      44.188880   \n",
      "Cat3_pat35   14.410922   12.333062    2.937745       1.103677      39.990785   \n",
      "Cat3_pat37   23.224224    8.873750    5.607131       3.080602      42.424193   \n",
      "Cat3_pat38   17.247099   12.604353    4.101993     -15.161722      29.294204   \n",
      "Cat3_pat39   24.252758   16.753905    9.800385       7.511229      35.752639   \n",
      "Cat3_pat5   175.733905   14.057587  179.273795     126.694958      74.022033   \n",
      "Cat3_pat6    16.979148    7.030061    3.444749       4.024327      46.638507   \n",
      "Cat3_pat7    18.764579    7.121265    4.943333      -0.391000      47.468692   \n",
      "Cat3_pat8    14.620452   10.517960    2.719969      -0.062405      28.369935   \n",
      "Cat3_pat9    12.935743   18.955517   14.897458       2.511147      33.494148   \n",
      "Cat4_pat11   15.498198    5.296348    6.880904     -20.196468      53.485446   \n",
      "Cat4_pat12   25.092794    3.500258   19.776566      12.773274      47.419980   \n",
      "Cat4_pat14   25.178258   17.134675   15.908548      -9.479407      34.111458   \n",
      "Cat4_pat15   18.460423    2.663680    7.384975     -13.105865      35.066815   \n",
      "Cat4_pat17   21.810804    8.273798    5.951339      -7.400397      41.920457   \n",
      "Cat4_pat20   11.107096   13.966694   21.076587      -3.597615      24.585951   \n",
      "Cat4_pat23   21.329896    8.632447    8.428589     -14.148311      46.310400   \n",
      "Cat4_pat24   26.353549    8.306838    6.581950     -14.455508      42.088547   \n",
      "Cat4_pat6    27.080051   24.920197   11.148023     -25.288517      27.704731   \n",
      "\n",
      "            clavicula_r_z  scapula_r_x  scapula_r_y  scapula_r_z  humerus_r_x  \\\n",
      "Cat1_pat1       75.698618    55.239339    55.313109   -11.912060    94.575167   \n",
      "Cat1_pat10      62.402269    47.548266    33.717771     5.938577    99.133941   \n",
      "Cat1_pat11      62.065025    51.980370    41.567331    -2.957922    81.197164   \n",
      "Cat1_pat12      57.885456    38.753370    28.881256    23.675090    75.838292   \n",
      "Cat1_pat13      66.893099    51.933625    40.908009    15.576308   104.601029   \n",
      "Cat1_pat14      68.950229    55.790834    43.426479    15.422869    72.894421   \n",
      "Cat1_pat15      50.606017    36.060276    33.537376    10.974710    93.319368   \n",
      "Cat1_pat16      76.637989    46.108249    32.585480    14.691523   150.355295   \n",
      "Cat1_pat17      62.180229    60.177782    25.617908     3.909499    77.044781   \n",
      "Cat1_pat18      99.020908    75.081416    75.347421    43.174165    97.698941   \n",
      "Cat1_pat19      68.343801    59.175203    37.530453     3.233351    82.932202   \n",
      "Cat1_pat2       56.927170    40.823197    30.537493    28.030214   101.317641   \n",
      "Cat1_pat20      57.553529    67.295102    27.507347    -6.869876    96.438361   \n",
      "Cat1_pat21      60.257910    44.380596    33.241855     8.136056    85.064730   \n",
      "Cat1_pat22      39.000417    39.628113    33.941299   -20.270964    72.409161   \n",
      "Cat1_pat23      60.192671    79.123767    42.951725    -7.122924   112.692834   \n",
      "Cat1_pat24      53.718391    69.567739    34.703786    -5.962104    93.017161   \n",
      "Cat1_pat26      75.098799    77.660620    46.717486    -1.139267   105.030891   \n",
      "Cat1_pat27      66.870074    49.367868    24.888328     3.359437    69.061767   \n",
      "Cat1_pat29      58.692736    58.274406    35.338064    -1.101110    72.862617   \n",
      "Cat1_pat3       57.839060    55.832776    39.590349   -14.926230    78.367885   \n",
      "Cat1_pat30      59.075141    71.965933    31.092927     1.240687    85.142655   \n",
      "Cat1_pat4       69.617329    67.743638    41.420616     2.444203    88.354087   \n",
      "Cat1_pat5       54.144605    52.397745    35.919935     5.602332    87.689040   \n",
      "Cat1_pat6       43.497328    50.269028    29.487872     0.299353    75.840266   \n",
      "Cat1_pat7       72.801740    46.162250    51.025799    -8.591007    77.494460   \n",
      "Cat1_pat8       54.175167    48.139797    23.003448     9.927176    72.739645   \n",
      "Cat2_pat1       55.345671    47.978776    34.459172    21.476363   107.360602   \n",
      "Cat2_pat10      39.282014    59.944770    35.856673   -13.817150    90.048934   \n",
      "Cat2_pat11      64.710345    49.343605    36.396814     5.389156    93.272901   \n",
      "...                   ...          ...          ...          ...          ...   \n",
      "Cat3_pat24      74.452569    45.263716    39.121930    27.158082   105.222029   \n",
      "Cat3_pat25      64.924788    50.467088    40.079184     4.249697    89.675038   \n",
      "Cat3_pat26      63.458253    84.267389    43.986931    13.770196    78.944295   \n",
      "Cat3_pat27      39.697835    49.938955    17.947263     8.100764    71.952646   \n",
      "Cat3_pat28      43.071721    38.553847    29.508827    14.714256   103.776874   \n",
      "Cat3_pat29      66.273619    92.036925    54.391751     3.840867   114.838602   \n",
      "Cat3_pat3       55.085932    61.786513    54.232294    20.224328    91.661399   \n",
      "Cat3_pat30      80.609604    79.430288    63.242949    10.062751    85.496980   \n",
      "Cat3_pat31      76.032672    47.595438    47.190865    23.245941    94.284334   \n",
      "Cat3_pat32      42.887862    54.868330    29.252666     3.550544   121.375638   \n",
      "Cat3_pat33      48.156998    51.064012    39.144671     7.623414    85.582135   \n",
      "Cat3_pat34      56.436335    44.876048    29.813138    10.897142    95.515171   \n",
      "Cat3_pat35      50.064028    57.300325    44.555146    -6.764577    84.200644   \n",
      "Cat3_pat37      68.007387    63.890651    45.477206     4.039137   108.557763   \n",
      "Cat3_pat38      42.675726    48.602083    24.521168     4.010094    74.351948   \n",
      "Cat3_pat39      82.344410    51.404355    54.532637    38.736944   105.217259   \n",
      "Cat3_pat5       53.518306   113.212655    40.558008     8.200543   127.750670   \n",
      "Cat3_pat6       62.640408    63.168049    40.761179     8.797038   113.103508   \n",
      "Cat3_pat7       67.671747    49.665978    42.287939    31.041942   108.948355   \n",
      "Cat3_pat8       44.390981    42.654415    35.627375    17.585153    86.239762   \n",
      "Cat3_pat9       55.743896    44.376878    37.401575    29.093132   107.651366   \n",
      "Cat4_pat11      82.564219    46.909018    60.265874    45.423607   110.107922   \n",
      "Cat4_pat12      58.771120    71.210729    66.678789    14.580773   179.118659   \n",
      "Cat4_pat14      56.499330    45.712438    49.156705    30.525686   177.278882   \n",
      "Cat4_pat15      61.365623    48.168902    67.453950    36.561193   138.334769   \n",
      "Cat4_pat17      63.945860    57.268503    69.481317    22.062262    89.444165   \n",
      "Cat4_pat20      37.487098    45.071195    41.081094     5.957407    93.619665   \n",
      "Cat4_pat23      54.680875    40.813456    59.829241    12.688402    88.613449   \n",
      "Cat4_pat24      68.814608    64.756077    77.705016    57.559006    76.018685   \n",
      "Cat4_pat6       68.433809    39.054718    64.708729    34.010692   109.377407   \n",
      "\n",
      "            ...   scapula_l_y  scapula_l_z  humerus_l_x  humerus_l_y  \\\n",
      "Cat1_pat1   ...     41.239355    -9.226056    79.664010   144.845102   \n",
      "Cat1_pat10  ...     52.485279    16.922555    77.461331   165.286832   \n",
      "Cat1_pat11  ...     30.978742    -0.552354    86.965265   160.448197   \n",
      "Cat1_pat12  ...     15.472298    16.551647    82.469873   159.386134   \n",
      "Cat1_pat13  ...     25.989754     0.476519    71.848521   164.056072   \n",
      "Cat1_pat14  ...     30.681731     2.486762   119.521885   167.656600   \n",
      "Cat1_pat15  ...     29.701508    24.169423    78.530213   159.760251   \n",
      "Cat1_pat16  ...     27.460800    14.758618    78.307080   160.063779   \n",
      "Cat1_pat17  ...     28.959327     4.981771    70.624089   150.902269   \n",
      "Cat1_pat18  ...     57.128810    34.339181    78.153498   167.827076   \n",
      "Cat1_pat19  ...     29.585058     9.716378    70.692451   149.189213   \n",
      "Cat1_pat2   ...     44.110470    26.235715    82.627907   172.141618   \n",
      "Cat1_pat20  ...     25.641992    -2.527716    75.918963   152.461416   \n",
      "Cat1_pat21  ...     16.695144     6.866647    67.168077   156.433469   \n",
      "Cat1_pat22  ...     22.397184   -14.734707    75.423815   147.704567   \n",
      "Cat1_pat23  ...     26.146434    -5.743031    77.850938   159.111070   \n",
      "Cat1_pat24  ...     30.532316     4.932995    71.361651   152.839410   \n",
      "Cat1_pat26  ...     29.021197     8.846775    81.676973   164.609889   \n",
      "Cat1_pat27  ...     25.961725     6.789888    79.035782   138.056105   \n",
      "Cat1_pat29  ...     49.008060    -5.281522    71.005741   157.826249   \n",
      "Cat1_pat3   ...     22.474725   -11.846870    81.621606   148.170654   \n",
      "Cat1_pat30  ...     18.406688     4.825429    85.560033   157.804031   \n",
      "Cat1_pat4   ...     16.673147    15.357845    78.563719   140.249145   \n",
      "Cat1_pat5   ...     16.876719    14.188169    88.146432   153.523908   \n",
      "Cat1_pat6   ...     23.986666    -1.787653    72.547486   143.102895   \n",
      "Cat1_pat7   ...     34.273935    14.792412    68.509143   162.401901   \n",
      "Cat1_pat8   ...     20.976197     4.372687    84.045222   152.695144   \n",
      "Cat2_pat1   ...     45.549613    18.799313    84.844552   155.470517   \n",
      "Cat2_pat10  ...     45.619373     2.393377    82.512778   132.764804   \n",
      "Cat2_pat11  ...     28.707955     0.421043    75.785185   139.067524   \n",
      "...         ...           ...          ...          ...          ...   \n",
      "Cat3_pat24  ...     38.052555    17.581044    85.076076   157.801362   \n",
      "Cat3_pat25  ...     27.292805     7.606261    97.738364   160.683700   \n",
      "Cat3_pat26  ...     70.734049    57.911757    66.707525   147.715059   \n",
      "Cat3_pat27  ...     46.553440     6.993184    85.639159   147.389790   \n",
      "Cat3_pat28  ...     26.724911    -0.394298    93.291369   128.310088   \n",
      "Cat3_pat29  ...     36.988264    13.604182    99.605089   127.923646   \n",
      "Cat3_pat3   ...     53.403548    14.362808    80.780565   159.948219   \n",
      "Cat3_pat30  ...     63.482995    18.359274   138.447829   172.840686   \n",
      "Cat3_pat31  ...     45.362665    23.580769   103.103234   154.123960   \n",
      "Cat3_pat32  ...     36.351188     2.020287    92.699499   161.870184   \n",
      "Cat3_pat33  ...     53.686088    33.546246    84.093678   165.999943   \n",
      "Cat3_pat34  ...     30.470416     8.566567    76.935096   112.642248   \n",
      "Cat3_pat35  ...     40.671294    16.151758   109.107477   134.971847   \n",
      "Cat3_pat37  ...     41.443476     1.673550    80.896105   133.899925   \n",
      "Cat3_pat38  ...     31.770359    10.854795    84.536412   145.731710   \n",
      "Cat3_pat39  ...     37.039838    25.253920   116.365886   159.188266   \n",
      "Cat3_pat5   ...     41.333519    25.965914   171.310143   128.534795   \n",
      "Cat3_pat6   ...     38.686689    17.694620    97.255178   152.983424   \n",
      "Cat3_pat7   ...     35.619432    36.551032    84.433787   170.656558   \n",
      "Cat3_pat8   ...     31.803643    21.022453   169.281879   147.763775   \n",
      "Cat3_pat9   ...     52.117256    27.154508   123.913120   156.610815   \n",
      "Cat4_pat11  ...     59.842579    47.005072    84.787427   155.707392   \n",
      "Cat4_pat12  ...     46.224606    15.595221   127.260793   138.928173   \n",
      "Cat4_pat14  ...     62.381144    13.887635    77.321587   150.537205   \n",
      "Cat4_pat15  ...     75.101484    32.048882    71.213062   167.024669   \n",
      "Cat4_pat17  ...     69.649024    44.658336    66.805864   156.904608   \n",
      "Cat4_pat20  ...     63.078283     2.328062    84.388087   145.798774   \n",
      "Cat4_pat23  ...     77.139866    39.990152    87.055237   123.775693   \n",
      "Cat4_pat24  ...     55.686062    34.035644    83.771136   137.854750   \n",
      "Cat4_pat6   ...     36.490579    -0.659034   148.115490    34.276524   \n",
      "\n",
      "            humerus_l_z  ellebooghoek_l   28   29  GroundTruth  Bias  \n",
      "Cat1_pat1    129.632445     1790.591638  0.0  0.0            1     0  \n",
      "Cat1_pat10   130.745498       -8.234943  0.0  0.0            1     0  \n",
      "Cat1_pat11   109.397526     1056.235019  0.0  0.0            1     0  \n",
      "Cat1_pat12   110.954473      151.414876  0.0  0.0            1     0  \n",
      "Cat1_pat13    82.355271      681.118191  0.0  0.0            1     0  \n",
      "Cat1_pat14   156.508456     1812.319045  0.0  0.0            1     0  \n",
      "Cat1_pat15   115.810047      430.225026  0.0  0.0            1     0  \n",
      "Cat1_pat16    65.824277      927.158911  0.0  0.0            1     0  \n",
      "Cat1_pat17   112.214136     3203.393578  0.0  0.0            1     0  \n",
      "Cat1_pat18   100.463573     5243.124912  0.0  0.0            1     0  \n",
      "Cat1_pat19   126.388086     7385.248742  0.0  0.0            1     0  \n",
      "Cat1_pat2     92.022778      319.088394  0.0  0.0            1     0  \n",
      "Cat1_pat20   113.458418     1279.090494  0.0  0.0            1     0  \n",
      "Cat1_pat21    83.633493     1636.027144  0.0  0.0            1     0  \n",
      "Cat1_pat22    95.775789     1830.875592  0.0  0.0            1     0  \n",
      "Cat1_pat23    96.748265      -39.361694  0.0  0.0            1     0  \n",
      "Cat1_pat24   136.325609     2327.456978  0.0  0.0            1     0  \n",
      "Cat1_pat26   118.353351    11590.489847  0.0  0.0            1     0  \n",
      "Cat1_pat27   129.468022     4017.530622  0.0  0.0            1     0  \n",
      "Cat1_pat29    94.842526     5892.718315  0.0  0.0            1     0  \n",
      "Cat1_pat3    136.352982      794.300277  0.0  0.0            1     0  \n",
      "Cat1_pat30    64.955352      939.725285  0.0  0.0            1     0  \n",
      "Cat1_pat4     90.326920      795.177545  0.0  0.0            1     0  \n",
      "Cat1_pat5    110.499658     2789.806361  0.0  0.0            1     0  \n",
      "Cat1_pat6     74.675817     5037.148723  0.0  0.0            1     0  \n",
      "Cat1_pat7    100.880207     1242.275296  0.0  0.0            1     0  \n",
      "Cat1_pat8    108.280397     3224.407167  0.0  0.0            1     0  \n",
      "Cat2_pat1     81.381881     1644.499960  0.0  0.0            2     0  \n",
      "Cat2_pat10   105.367644     5553.858844  0.0  0.0            2     0  \n",
      "Cat2_pat11   145.820126     1368.548664  0.0  0.0            2     0  \n",
      "...                 ...             ...  ...  ...          ...   ...  \n",
      "Cat3_pat24    95.762572     9288.312623  0.0  0.0            3     0  \n",
      "Cat3_pat25   131.249121      563.362400  0.0  0.0            3     0  \n",
      "Cat3_pat26   108.551207      766.661235  0.0  0.0            3     0  \n",
      "Cat3_pat27   107.104662      892.249922  0.0  0.0            3     0  \n",
      "Cat3_pat28   107.919944      142.199450  0.0  0.0            3     0  \n",
      "Cat3_pat29    85.219170     1089.366108  0.0  0.0            3     0  \n",
      "Cat3_pat3    135.965883     1721.691426  0.0  0.0            3     0  \n",
      "Cat3_pat30    41.794399     3605.582619  0.0  0.0            3     0  \n",
      "Cat3_pat31   104.625906     5192.344434  0.0  0.0            3     0  \n",
      "Cat3_pat32    91.906938     1361.339815  0.0  0.0            3     0  \n",
      "Cat3_pat33    83.698858     1263.945482  0.0  0.0            3     0  \n",
      "Cat3_pat34    84.505018      919.145558  0.0  0.0            3     0  \n",
      "Cat3_pat35    78.822357     6470.839481  0.0  0.0            3     0  \n",
      "Cat3_pat37    92.145408     3784.935536  0.0  0.0            3     0  \n",
      "Cat3_pat38   108.676286      804.912463  0.0  0.0            3     0  \n",
      "Cat3_pat39   166.196676     2729.398003  0.0  0.0            3     0  \n",
      "Cat3_pat5    176.089806     1346.317423  0.0  0.0            3     0  \n",
      "Cat3_pat6    120.861668     3233.399740  0.0  0.0            3     0  \n",
      "Cat3_pat7     99.643492     4066.357917  0.0  0.0            3     0  \n",
      "Cat3_pat8    177.547645     1962.233257  0.0  0.0            3     0  \n",
      "Cat3_pat9     96.932081     3890.310557  0.0  0.0            3     0  \n",
      "Cat4_pat11   120.182161     2223.706315  0.0  0.0            4     0  \n",
      "Cat4_pat12   179.869528     1115.444309  0.0  0.0            4     0  \n",
      "Cat4_pat14    96.718770     1930.930510  0.0  0.0            4     0  \n",
      "Cat4_pat15    81.055507     1084.962205  0.0  0.0            4     0  \n",
      "Cat4_pat17   105.349549     2123.955673  0.0  0.0            4     0  \n",
      "Cat4_pat20    89.704678     1015.551844  0.0  0.0            4     0  \n",
      "Cat4_pat23   101.426586     1129.385968  0.0  0.0            4     0  \n",
      "Cat4_pat24    89.074020     4066.120472  0.0  0.0            4     0  \n",
      "Cat4_pat6    179.498678     1290.772420  0.0  0.0            4     0  \n",
      "\n",
      "[105 rows x 32 columns]\n"
     ]
    }
   ],
   "source": [
    "print(df)"
   ]
  }
 ],
 "metadata": {
  "kernelspec": {
   "display_name": "Python 3",
   "language": "python",
   "name": "python3"
  },
  "language_info": {
   "codemirror_mode": {
    "name": "ipython",
    "version": 3
   },
   "file_extension": ".py",
   "mimetype": "text/x-python",
   "name": "python",
   "nbconvert_exporter": "python",
   "pygments_lexer": "ipython3",
   "version": "3.6.7"
  }
 },
 "nbformat": 4,
 "nbformat_minor": 2
}
