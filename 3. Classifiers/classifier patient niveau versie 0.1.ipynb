{
 "cells": [
  {
   "cell_type": "code",
   "execution_count": 1,
   "metadata": {},
   "outputs": [],
   "source": [
    "import pandas as pd\n",
    "import numpy as np\n",
    "from os import listdir\n",
    "\n",
    "from sklearn.linear_model import LogisticRegression\n",
    "from sklearn.model_selection import train_test_split\n",
    "from sklearn import metrics"
   ]
  },
  {
   "cell_type": "code",
   "execution_count": 2,
   "metadata": {},
   "outputs": [],
   "source": [
    "def HeaderMaker(PatientFile):\n",
    "    df_cleaned = pd.read_csv('/data/ortho/' + PatientFile, header=None)\n",
    "\n",
    "    df_cleaned = df_cleaned.rename(columns={0: \"thorax_r_x\", 1: \"thorax_r_y\", 2: \"thorax_r_z\"})\n",
    "    df_cleaned = df_cleaned.rename(columns={3: \"clavicula_r_x\", 4: \"clavicula_r_y\", 5: \"clavicula_r_z\"})\n",
    "    df_cleaned = df_cleaned.rename(columns={6: \"scapula_r_x\", 7: \"scapula_r_y\", 8: \"scapula_r_z\"})\n",
    "    df_cleaned = df_cleaned.rename(columns={9: \"humerus_r_x\", 10: \"humerus_r_y\", 11: \"humerus_r_z\"})\n",
    "    df_cleaned = df_cleaned.rename(columns={12: \"ellebooghoek_r\"})\n",
    "    df_cleaned = df_cleaned.rename(columns={15: \"thorax_l_x\", 16: \"thorax_l_y\", 17: \"thorax_l_z\"})\n",
    "    df_cleaned = df_cleaned.rename(columns={18: \"clavicula_l_x\", 19: \"clavicula_l_y\", 20: \"clavicula_l_z\"})\n",
    "    df_cleaned = df_cleaned.rename(columns={21: \"scapula_l_x\", 22: \"scapula_l_y\", 23: \"scapula_l_z\"})\n",
    "    df_cleaned = df_cleaned.rename(columns={24: \"humerus_l_x\", 25: \"humerus_l_y\", 26: \"humerus_l_z\"})\n",
    "    df_cleaned = df_cleaned.rename(columns={27: \"ellebooghoek_l\"})\n",
    "    \n",
    "    return df_cleaned"
   ]
  },
  {
   "cell_type": "code",
   "execution_count": 3,
   "metadata": {
    "scrolled": true
   },
   "outputs": [
    {
     "name": "stdout",
     "output_type": "stream",
     "text": [
      "Skipping: StudentNummers\n",
      "Skipping: testset\n",
      "Skipping: AllPatients.csv\n",
      "Skipping: TestDataAllPatients.csv\n"
     ]
    }
   ],
   "source": [
    "\n",
    "Patients = {}\n",
    "testdataurl = '/data/ortho/'\n",
    "for PatientFile in listdir(testdataurl):\n",
    "    if ('meting' not in PatientFile):\n",
    "        print('Skipping: %s' % PatientFile)\n",
    "        # Skip this iteration\n",
    "        continue\n",
    "    Splitted = PatientFile.split('_')\n",
    "    Patient = Splitted[0] + '_' + Splitted[1]\n",
    "\n",
    "    Data = HeaderMaker(PatientFile)\n",
    "    MaxDict = Data.abs().max().to_dict() # .abs() for absolute numbers\n",
    "    \n",
    "    if(Patient not in Patients.keys()):\n",
    "        Patients[Patient] = MaxDict\n",
    "        Patients[Patient]['GroundTruth'] = Splitted[0].split('Cat')[1]\n",
    "        Patients[Patient]['Bias'] = 0\n",
    "        continue\n",
    "    \n",
    "    for key in MaxDict.keys():\n",
    "        Patients[Patient][key]= max(Patients[Patient][key],MaxDict[key])\n",
    "        \n",
    "\n",
    "    \n",
    "    \n",
    "            \n",
    "            \n",
    "            \n",
    "            "
   ]
  },
  {
   "cell_type": "code",
   "execution_count": 4,
   "metadata": {
    "scrolled": true
   },
   "outputs": [
    {
     "name": "stdout",
     "output_type": "stream",
     "text": [
      "['thorax_r_x' 'thorax_r_y' 'thorax_r_z' 'clavicula_r_x' 'clavicula_r_y'\n",
      " 'clavicula_r_z' 'scapula_r_x' 'scapula_r_y' 'scapula_r_z' 'humerus_r_x'\n",
      " 'humerus_r_y' 'humerus_r_z' 'ellebooghoek_r' 13 14 'thorax_l_x'\n",
      " 'thorax_l_y' 'thorax_l_z' 'clavicula_l_x' 'clavicula_l_y' 'clavicula_l_z'\n",
      " 'scapula_l_x' 'scapula_l_y' 'scapula_l_z' 'humerus_l_x' 'humerus_l_y'\n",
      " 'humerus_l_z' 'ellebooghoek_l' 28 29 'GroundTruth' 'Bias']\n"
     ]
    }
   ],
   "source": [
    "df = pd.DataFrame.from_dict(Patients, orient='index')\n",
    "print(df.columns.values)"
   ]
  },
  {
   "cell_type": "code",
   "execution_count": 5,
   "metadata": {},
   "outputs": [],
   "source": [
    "Xcolumns = ['Bias']\n",
    "Xcolumns.extend(['thorax_r_x', 'thorax_r_y', 'thorax_r_z', 'clavicula_r_x', 'clavicula_r_y',\n",
    " 'clavicula_r_z', 'scapula_r_x', 'scapula_r_y', 'scapula_r_z', 'humerus_r_x',\n",
    " 'humerus_r_y', 'humerus_r_z', 'ellebooghoek_r', 'thorax_l_x',\n",
    " 'thorax_l_y', 'thorax_l_z', 'clavicula_l_x', 'clavicula_l_y', 'clavicula_l_z',\n",
    " 'scapula_l_x', 'scapula_l_y', 'scapula_l_z', 'humerus_l_x', 'humerus_l_y',\n",
    " 'humerus_l_z', 'ellebooghoek_l'])\n",
    "\n",
    "X = df[Xcolumns]\n",
    "y = df[['GroundTruth']]\n"
   ]
  },
  {
   "cell_type": "code",
   "execution_count": 6,
   "metadata": {},
   "outputs": [],
   "source": [
    "X_train, X_test, y_train, y_test = train_test_split(X, y, test_size = 0.2, random_state=42)"
   ]
  },
  {
   "cell_type": "code",
   "execution_count": 7,
   "metadata": {},
   "outputs": [
    {
     "name": "stderr",
     "output_type": "stream",
     "text": [
      "/opt/jupyterhub/anaconda/lib/python3.6/site-packages/sklearn/linear_model/logistic.py:432: FutureWarning: Default solver will be changed to 'lbfgs' in 0.22. Specify a solver to silence this warning.\n",
      "  FutureWarning)\n",
      "/opt/jupyterhub/anaconda/lib/python3.6/site-packages/sklearn/utils/validation.py:752: DataConversionWarning: A column-vector y was passed when a 1d array was expected. Please change the shape of y to (n_samples, ), for example using ravel().\n",
      "  y = column_or_1d(y, warn=True)\n",
      "/opt/jupyterhub/anaconda/lib/python3.6/site-packages/sklearn/linear_model/logistic.py:459: FutureWarning: Default multi_class will be changed to 'auto' in 0.22. Specify the multi_class option to silence this warning.\n",
      "  \"this warning.\", FutureWarning)\n"
     ]
    },
    {
     "data": {
      "text/plain": [
       "LogisticRegression(C=1.0, class_weight=None, dual=False, fit_intercept=True,\n",
       "          intercept_scaling=1, max_iter=100, multi_class='warn',\n",
       "          n_jobs=None, penalty='l2', random_state=None, solver='warn',\n",
       "          tol=0.0001, verbose=0, warm_start=False)"
      ]
     },
     "execution_count": 7,
     "metadata": {},
     "output_type": "execute_result"
    }
   ],
   "source": [
    "lr = LogisticRegression()\n",
    "lr.fit(X_train, y_train)"
   ]
  },
  {
   "cell_type": "code",
   "execution_count": 8,
   "metadata": {},
   "outputs": [
    {
     "name": "stdout",
     "output_type": "stream",
     "text": [
      "[ 0.00000000e+00 -1.13937102e-01 -5.00612927e-01 -4.09878457e-01\n",
      "  5.28584208e-02  5.70715966e-01 -1.70007498e-01  4.99905474e-01\n",
      " -1.01831604e-01  1.71448776e-01 -2.57286566e-01  3.21268451e-01\n",
      "  3.89859414e-01 -7.58966277e-04 -1.13937102e-01 -5.00612927e-01\n",
      " -4.09878457e-01  3.34589359e-01 -3.70941568e-01  1.60328903e-02\n",
      " -6.38296411e-01 -4.06045259e-01 -2.72481532e-01 -1.46047659e-01\n",
      " -1.53373036e-01 -5.46368298e-02  1.96332843e-04]\n",
      "0.6666666666666666\n"
     ]
    }
   ],
   "source": [
    "y_pred = lr.predict(X_test)\n",
    "print(lr.coef_[0])\n",
    "print(metrics.accuracy_score(y_test, y_pred))"
   ]
  },
  {
   "cell_type": "code",
   "execution_count": 10,
   "metadata": {},
   "outputs": [
    {
     "ename": "ValueError",
     "evalue": "too many values to unpack (expected 4)",
     "output_type": "error",
     "traceback": [
      "\u001b[0;31m---------------------------------------------------------------------------\u001b[0m",
      "\u001b[0;31mValueError\u001b[0m                                Traceback (most recent call last)",
      "\u001b[0;32m<ipython-input-10-1915ba478518>\u001b[0m in \u001b[0;36m<module>\u001b[0;34m\u001b[0m\n\u001b[1;32m      5\u001b[0m \u001b[0my_pred\u001b[0m \u001b[0;34m=\u001b[0m\u001b[0mlr\u001b[0m\u001b[0;34m.\u001b[0m\u001b[0mpredict\u001b[0m\u001b[0;34m(\u001b[0m\u001b[0mX_test\u001b[0m\u001b[0;34m)\u001b[0m\u001b[0;34m\u001b[0m\u001b[0m\n\u001b[1;32m      6\u001b[0m \u001b[0;34m\u001b[0m\u001b[0m\n\u001b[0;32m----> 7\u001b[0;31m \u001b[0mTN\u001b[0m\u001b[0;34m,\u001b[0m \u001b[0mFP\u001b[0m\u001b[0;34m,\u001b[0m \u001b[0mFN\u001b[0m\u001b[0;34m,\u001b[0m \u001b[0mTP\u001b[0m \u001b[0;34m=\u001b[0m \u001b[0mconfusion_matrix\u001b[0m\u001b[0;34m(\u001b[0m\u001b[0my_true\u001b[0m\u001b[0;34m,\u001b[0m \u001b[0my_pred\u001b[0m\u001b[0;34m)\u001b[0m\u001b[0;34m.\u001b[0m\u001b[0mravel\u001b[0m\u001b[0;34m(\u001b[0m\u001b[0;34m)\u001b[0m\u001b[0;34m\u001b[0m\u001b[0m\n\u001b[0m\u001b[1;32m      8\u001b[0m \u001b[0;34m\u001b[0m\u001b[0m\n\u001b[1;32m      9\u001b[0m \u001b[0;31m# tabel printen\u001b[0m\u001b[0;34m\u001b[0m\u001b[0;34m\u001b[0m\u001b[0m\n",
      "\u001b[0;31mValueError\u001b[0m: too many values to unpack (expected 4)"
     ]
    }
   ],
   "source": [
    "from sklearn.metrics import mean_squared_error, \\\n",
    "recall_score, precision_score, accuracy_score, confusion_matrix\n",
    "\n",
    "y_true = y_test\n",
    "y_pred =lr.predict(X_test)\n",
    "\n",
    "TN, FP, FN, TP = confusion_matrix(y_true, y_pred).ravel()\n",
    "\n",
    "# tabel printen\n",
    "\n",
    "print('Informationi matrix %s' % cat)\n",
    "tab = [[\"pred pos\", TP, FP], [\"pred neg\", FN, TN]]\n",
    "print(pd.DataFrame(tab, columns=[\"\", \"pos\", \"neg\"]))\n",
    "print()\n",
    "print(\"recall: \", recall_score(y_true, y_pred))\n",
    "print(\"precision: \", precision_score(y_true, y_pred))\n",
    "print(\"accuracy: \", accuracy_score(y_true, y_pred))\n",
    "print('\\n\\n')"
   ]
  },
  {
   "cell_type": "code",
   "execution_count": 9,
   "metadata": {},
   "outputs": [
    {
     "data": {
      "text/plain": [
       "32"
      ]
     },
     "execution_count": 9,
     "metadata": {},
     "output_type": "execute_result"
    }
   ],
   "source": [
    "len(Patients['Cat3_pat38'])"
   ]
  }
 ],
 "metadata": {
  "kernelspec": {
   "display_name": "Python 3",
   "language": "python",
   "name": "python3"
  },
  "language_info": {
   "codemirror_mode": {
    "name": "ipython",
    "version": 3
   },
   "file_extension": ".py",
   "mimetype": "text/x-python",
   "name": "python",
   "nbconvert_exporter": "python",
   "pygments_lexer": "ipython3",
   "version": "3.6.6"
  }
 },
 "nbformat": 4,
 "nbformat_minor": 2
}
