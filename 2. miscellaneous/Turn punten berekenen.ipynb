{
 "cells": [
  {
   "cell_type": "code",
   "execution_count": 2,
   "metadata": {},
   "outputs": [],
   "source": [
    "import pandas as pd\n",
    "from os import listdir\n",
    "import matplotlib.pyplot as plt"
   ]
  },
  {
   "cell_type": "code",
   "execution_count": 3,
   "metadata": {},
   "outputs": [],
   "source": [
    "def HeaderMaker(PatientFile):\n",
    "    df_cleaned = pd.read_csv(PatientFile, header=None)\n",
    "\n",
    "    df_cleaned = df_cleaned.rename(columns={0: \"thorax_r_x\", 1: \"thorax_r_y\", 2: \"thorax_r_z\"})\n",
    "    df_cleaned = df_cleaned.rename(columns={3: \"clavicula_r_x\", 4: \"clavicula_r_y\", 5: \"clavicula_r_z\"})\n",
    "    df_cleaned = df_cleaned.rename(columns={6: \"scapula_r_x\", 7: \"scapula_r_y\", 8: \"scapula_r_z\"})\n",
    "    df_cleaned = df_cleaned.rename(columns={9: \"humerus_r_x\", 10: \"humerus_r_y\", 11: \"humerus_r_z\"})\n",
    "    df_cleaned = df_cleaned.rename(columns={12: \"ellebooghoek_r\"})\n",
    "    df_cleaned = df_cleaned.rename(columns={15: \"thorax_l_x\", 16: \"thorax_l_y\", 17: \"thorax_l_z\"})\n",
    "    df_cleaned = df_cleaned.rename(columns={18: \"clavicula_l_x\", 19: \"clavicula_l_y\", 20: \"clavicula_l_z\"})\n",
    "    df_cleaned = df_cleaned.rename(columns={21: \"scapula_l_x\", 22: \"scapula_l_y\", 23: \"scapula_l_z\"})\n",
    "    df_cleaned = df_cleaned.rename(columns={24: \"humerus_l_x\", 25: \"humerus_l_y\", 26: \"humerus_l_z\"})\n",
    "    df_cleaned = df_cleaned.rename(columns={27: \"ellebooghoek_l\"})\n",
    "    \n",
    "    return df_cleaned\n",
    "\n",
    "def CalculateTurning(df):\n",
    "    turningcounter = 0\n",
    "    growing = True\n",
    "    previousi = 0\n",
    "    for num, i in enumerate(df['humerus_r_x']):\n",
    "        if i > previousi and growing == False:\n",
    "            turningcounter += 1\n",
    "            growing = True\n",
    "        if i < previousi and growing:\n",
    "            turningcounter += 1\n",
    "            growing = False\n",
    "        previousi = i\n",
    "        if num == 1:\n",
    "            turningcounter = 0\n",
    "    return turningcounter"
   ]
  },
  {
   "cell_type": "code",
   "execution_count": 8,
   "metadata": {},
   "outputs": [
    {
     "data": {
      "text/html": [
       "<div>\n",
       "<style scoped>\n",
       "    .dataframe tbody tr th:only-of-type {\n",
       "        vertical-align: middle;\n",
       "    }\n",
       "\n",
       "    .dataframe tbody tr th {\n",
       "        vertical-align: top;\n",
       "    }\n",
       "\n",
       "    .dataframe thead th {\n",
       "        text-align: right;\n",
       "    }\n",
       "</style>\n",
       "<table border=\"1\" class=\"dataframe\">\n",
       "  <thead>\n",
       "    <tr style=\"text-align: right;\">\n",
       "      <th></th>\n",
       "      <th>turn</th>\n",
       "    </tr>\n",
       "    <tr>\n",
       "      <th>cat</th>\n",
       "      <th></th>\n",
       "    </tr>\n",
       "  </thead>\n",
       "  <tbody>\n",
       "    <tr>\n",
       "      <th>Cat1</th>\n",
       "      <td>19.722222</td>\n",
       "    </tr>\n",
       "    <tr>\n",
       "      <th>Cat2</th>\n",
       "      <td>25.314050</td>\n",
       "    </tr>\n",
       "    <tr>\n",
       "      <th>Cat3</th>\n",
       "      <td>20.675439</td>\n",
       "    </tr>\n",
       "    <tr>\n",
       "      <th>Cat4</th>\n",
       "      <td>9.250000</td>\n",
       "    </tr>\n",
       "  </tbody>\n",
       "</table>\n",
       "</div>"
      ],
      "text/plain": [
       "           turn\n",
       "cat            \n",
       "Cat1  19.722222\n",
       "Cat2  25.314050\n",
       "Cat3  20.675439\n",
       "Cat4   9.250000"
      ]
     },
     "execution_count": 8,
     "metadata": {},
     "output_type": "execute_result"
    }
   ],
   "source": [
    "datc = '/datc/ortho/Cleaning/step3/bravo/'\n",
    "data = {'cat':[],\n",
    "       'turn':[]}\n",
    "for i in listdir(datc):\n",
    "    df = HeaderMaker(datc + i)\n",
    "    data['cat'].append(i.split('_')[0])\n",
    "    data['turn'].append(CalculateTurning(df))\n",
    "#     break\n",
    "df2 = pd.DataFrame.from_dict(data)\n",
    "df2.groupby(['cat']).mean()"
   ]
  },
  {
   "cell_type": "code",
   "execution_count": 12,
   "metadata": {},
   "outputs": [
    {
     "data": {
      "image/png": "[encoded data removed]",
      "text/plain": [
       "<Figure size 432x288 with 1 Axes>"
      ]
     },
     "metadata": {
      "needs_background": "light"
     },
     "output_type": "display_data"
    }
   ],
   "source": [
    "plt.plot(df['humerus_r_x'])\n",
    "plt.show()"
   ]
  },
  {
   "cell_type": "code",
   "execution_count": 19,
   "metadata": {},
   "outputs": [
    {
     "name": "stdout",
     "output_type": "stream",
     "text": [
      "3\n"
     ]
    }
   ],
   "source": [
    "turningcounter = 0\n",
    "growing = True\n",
    "previousi = 0\n",
    "for num, i in enumerate(df['humerus_r_x']):\n",
    "    if i > previousi and growing == False:\n",
    "        turningcounter += 1\n",
    "        growing = True\n",
    "    if i < previousi and growing:\n",
    "        turningcounter += 1\n",
    "        growing = False\n",
    "    previousi = i\n",
    "    if num == 1:\n",
    "        turningcounter = 0\n",
    "print(turningcounter)"
   ]
  }
 ],
 "metadata": {
  "kernelspec": {
   "display_name": "Python 3",
   "language": "python",
   "name": "python3"
  },
  "language_info": {
   "codemirror_mode": {
    "name": "ipython",
    "version": 3
   },
   "file_extension": ".py",
   "mimetype": "text/x-python",
   "name": "python",
   "nbconvert_exporter": "python",
   "pygments_lexer": "ipython3",
   "version": "3.6.7"
  }
 },
 "nbformat": 4,
 "nbformat_minor": 2
}
