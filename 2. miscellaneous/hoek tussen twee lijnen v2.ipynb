{
 "cells": [
  {
   "cell_type": "code",
   "execution_count": 6,
   "metadata": {},
   "outputs": [],
   "source": [
    "import matplotlib.pyplot as plt\n",
    "from matplotlib.lines import Line2D\n",
    "from matplotlib.patches import Arc\n",
    "import math\n",
    "import numpy as np\n",
    "from matplotlib.pyplot import gca"
   ]
  },
  {
   "cell_type": "code",
   "execution_count": 7,
   "metadata": {},
   "outputs": [],
   "source": [
    "def add_corner_arc(ax, line, radius=.7, color=None, text=None, text_radius=.5, text_rotatation=0, **kwargs):\n",
    "    ''' display an arc for p0p1p2 angle\n",
    "    Inputs:\n",
    "        ax     - axis to add arc to\n",
    "        line   - MATPLOTLIB line consisting of 3 points of the corner\n",
    "        radius - radius to add arc\n",
    "        color  - color of the arc\n",
    "        text   - text to show on corner\n",
    "        text_radius     - radius to add text\n",
    "        text_rotatation - extra rotation for text\n",
    "        kwargs - other arguments to pass to Arc\n",
    "    '''\n",
    "\n",
    "    lxy = line.get_xydata()\n",
    "\n",
    "    if len(lxy) < 3:\n",
    "        raise ValueError('at least 3 points in line must be available')\n",
    "\n",
    "    p0 = lxy[0]\n",
    "    p1 = lxy[1]\n",
    "    p2 = lxy[2]\n",
    "\n",
    "    width = np.ptp([p0[0], p1[0], p2[0]])\n",
    "    height = np.ptp([p0[1], p1[1], p2[1]])\n",
    "\n",
    "    n = np.array([width, height]) * 1.0\n",
    "    p0_ = (p0 - p1) / n\n",
    "    p1_ = (p1 - p1)\n",
    "    p2_ = (p2 - p1) / n \n",
    "\n",
    "    theta0 = -get_angle(p0_, p1_)\n",
    "    theta1 = -get_angle(p2_, p1_)\n",
    "\n",
    "    if color is None:\n",
    "        # Uses the color line if color parameter is not passed.\n",
    "        color = line.get_color() \n",
    "    arc = ax.add_patch(Arc(p1, width * radius, height * radius, 0, theta0, theta1, color=color, **kwargs))\n",
    "\n",
    "    if text:\n",
    "        v = p2_ / np.linalg.norm(p2_)\n",
    "        if theta0 < 0:\n",
    "            theta0 = theta0 + 360\n",
    "        if theta1 < 0:\n",
    "            theta1 = theta1 + 360\n",
    "        theta = (theta0 - theta1) / 2 + text_rotatation\n",
    "        pt = np.dot(rotation_transform(theta), v[:,None]).T * n * text_radius\n",
    "        pt = pt + p1\n",
    "        pt = pt.squeeze()\n",
    "        ax.text(pt[0], pt[1], text,         \n",
    "                horizontalalignment='left',\n",
    "                verticalalignment='top',)\n",
    "\n",
    "    return arc    \n",
    "\n",
    "def get_angle(p0, p1=np.array([0,0]), p2=None):\n",
    "    ''' compute angle (in degrees) for p0p1p2 corner\n",
    "    Inputs:\n",
    "        p0,p1,p2 - points in the form of [x,y]\n",
    "    '''\n",
    "    if p2 is None:\n",
    "        p2 = p1 + np.array([1, 0])\n",
    "    v0 = np.array(p0) - np.array(p1)\n",
    "    v1 = np.array(p2) - np.array(p1)\n",
    "\n",
    "    angle = np.math.atan2(np.linalg.det([v0,v1]),np.dot(v0,v1))\n",
    "    return np.degrees(angle)\n",
    "\n",
    "def rotation_transform(theta):\n",
    "    ''' rotation matrix given theta\n",
    "    Inputs:\n",
    "        theta    - theta (in degrees)\n",
    "    '''\n",
    "    theta = np.radians(theta)\n",
    "    A = [[np.math.cos(theta), -np.math.sin(theta)],\n",
    "         [np.math.sin(theta), np.math.cos(theta)]]\n",
    "    return np.array(A)"
   ]
  },
  {
   "cell_type": "code",
   "execution_count": 15,
   "metadata": {},
   "outputs": [
    {
     "data": {
      "text/plain": [
       "<matplotlib.patches.Arc at 0x7f003806d358>"
      ]
     },
     "execution_count": 15,
     "metadata": {},
     "output_type": "execute_result"
    }
   ],
   "source": [
    "ax = gca()\n",
    "line, = ax.plot([0, 0, 2], [-1, 0, 1], 'ro-', lw=2)\n",
    "add_corner_arc(ax, line, text=u'%d\\u00b0' % 90)"
   ]
  },
  {
   "cell_type": "code",
   "execution_count": 16,
   "metadata": {},
   "outputs": [
    {
     "data": {
      "image/png": "[encoded data removed]",
      "text/plain": [
       "<matplotlib.figure.Figure at 0x7f00380c7668>"
      ]
     },
     "metadata": {},
     "output_type": "display_data"
    }
   ],
   "source": [
    "# plt.legend()\n",
    "plt.show()"
   ]
  },
  {
   "cell_type": "code",
   "execution_count": null,
   "metadata": {},
   "outputs": [],
   "source": []
  }
 ],
 "metadata": {
  "kernelspec": {
   "display_name": "Python 3",
   "language": "python",
   "name": "python3"
  },
  "language_info": {
   "codemirror_mode": {
    "name": "ipython",
    "version": 3
   },
   "file_extension": ".py",
   "mimetype": "text/x-python",
   "name": "python",
   "nbconvert_exporter": "python",
   "pygments_lexer": "ipython3",
   "version": "3.6.6"
  }
 },
 "nbformat": 4,
 "nbformat_minor": 2
}
