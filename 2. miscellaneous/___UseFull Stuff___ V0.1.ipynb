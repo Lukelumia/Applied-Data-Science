{
 "cells": [
  {
   "cell_type": "markdown",
   "metadata": {},
   "source": [
    "# Usefull Stuff\n",
    "In dit notebook staan handige stukjes script die je bij classifiers of andere grotere scripts kunt gebruiken.\n",
    "\n",
    "Het volgende template gebruiken voor nieuwe stukken"
   ]
  },
  {
   "cell_type": "markdown",
   "metadata": {},
   "source": [
    "<span style=\"color:DarkBlue; font-size:30px; font-weight: bold;\">-- Template Title --</span>  \n",
    "--Beschrijving-- \n",
    "  \n",
    "<span style=\"color:DarkBlue; font-size:20px; font-weight: bold;\">Inputs & Outputs</span>  \n",
    "<span style=\"color:DarkBlue; font-size:15px; font-weight: bold;\">Inputs</span>  \n",
    "<span style=\"font-weight: bold;\">- Naam:</span> Formaat\n",
    "\n",
    "<span style=\"color:DarkBlue; font-size:15px; font-weight: bold;\">Output</span>  \n",
    "<span style=\"font-weight: bold;\">- Naam:</span> Formaat"
   ]
  },
  {
   "cell_type": "code",
   "execution_count": null,
   "metadata": {},
   "outputs": [],
   "source": [
    "Code"
   ]
  },
  {
   "cell_type": "markdown",
   "metadata": {},
   "source": [
    "<span style=\"color:DarkBlue; font-size:30px; font-weight: bold;\">-- Parameter weights --</span>  \n",
    "Bekijk welke paramters het belangrijks zijn binnen jou SKLearn classifier.\n",
    "Deze worden gesoorteerd van belangrijks naar minst belangrijkst  \n",
    "  \n",
    "<span style=\"color:DarkBlue; font-size:20px; font-weight: bold;\">Inputs & Outputs</span>  \n",
    "<span style=\"color:DarkBlue; font-size:15px; font-weight: bold;\">Inputs</span>  \n",
    "<span style=\"font-weight: bold;\">- param:</span> Alle colom namen van de paramters, in de zelfde volgorde als dat ze gebruikt zijn in het dataframe  \n",
    "<span style=\"font-weight: bold;\">- model_param:</span> Het SKLearn model dat bekeken wilt worden\n",
    "\n",
    "<span style=\"color:DarkBlue; font-size:15px; font-weight: bold;\">Output</span>  \n",
    "<span style=\"font-weight: bold;\">- ParamCheck:</span> Pandas DataFrame gesorteerd op belangrijkste parameters"
   ]
  },
  {
   "cell_type": "code",
   "execution_count": 8,
   "metadata": {
    "scrolled": true
   },
   "outputs": [
    {
     "name": "stdout",
     "output_type": "stream",
     "text": [
      "             Params    Values  Absolute\n",
      "11    clavicula_r_z -0.000026  0.000026\n",
      "7     clavicula_l_y -0.001619  0.001619\n",
      "21    scapula_x_dif  0.001775  0.001775\n",
      "24    humerus_x_dif -0.002213  0.002213\n",
      "3       humerus_r_x  0.002580  0.002580\n",
      "10    clavicula_r_y -0.003479  0.003479\n",
      "23    scapula_z_dif -0.003682  0.003682\n",
      "26    humerus_z_dif  0.004249  0.004249\n",
      "2       humerus_l_z -0.004285  0.004285\n",
      "18  clavicula_x_dif  0.004573  0.004573\n",
      "14      scapula_l_z  0.005046  0.005046\n",
      "0       humerus_l_x -0.005364  0.005364\n",
      "1       humerus_l_y -0.005549  0.005549\n",
      "5       humerus_r_z  0.005674  0.005674\n",
      "4       humerus_r_y -0.006017  0.006017\n",
      "25    humerus_y_dif  0.006619  0.006619\n",
      "19  clavicula_y_dif  0.006926  0.006926\n",
      "8     clavicula_l_z -0.007066  0.007066\n",
      "17      scapula_r_z  0.007191  0.007191\n",
      "22    scapula_y_dif -0.007565  0.007565\n",
      "9     clavicula_r_x -0.008378  0.008378\n",
      "15      scapula_r_x -0.008776  0.008776\n",
      "16      scapula_r_y  0.009182  0.009182\n",
      "6     clavicula_l_x  0.010079  0.010079\n",
      "20  clavicula_z_dif  0.010512  0.010512\n",
      "12      scapula_l_x  0.012087  0.012087\n",
      "13      scapula_l_y  0.034546  0.034546\n"
     ]
    }
   ],
   "source": [
    "ParamCheck = pd.DataFrame()\n",
    "ParamCheck['Params'] = param\n",
    "ParamCheck['Theta'] = list(model_param.coef_)\n",
    "ParamCheck['Absolute'] = np.absolute(list(ParamCheck['Theta']))\n",
    "ParamCheck = ParamCheck.sort_values(by=['Absolute'], ascending=False)\n",
    "print(ParamCheck)"
   ]
  },
  {
   "cell_type": "markdown",
   "metadata": {},
   "source": [
    "<span style=\"color:DarkBlue; font-size:30px; font-weight: bold;\">-- Import cleaned data functie --</span>  \n",
    "Met deze functie kan je cleaned csv bestanden inladen en de colommen gelijk goed zetten.\n",
    "  \n",
    "<span style=\"color:DarkBlue; font-size:20px; font-weight: bold;\">Inputs & Outputs</span>  \n",
    "<span style=\"color:DarkBlue; font-size:15px; font-weight: bold;\">Inputs</span>  \n",
    "<span style=\"font-weight: bold;\">- PatientFile:</span> String naam van bestand dat in de data/ortho/ directory staat\n",
    "\n",
    "<span style=\"color:DarkBlue; font-size:15px; font-weight: bold;\">Output</span>  \n",
    "<span style=\"font-weight: bold;\">- df_cleaned:</span> Pandas DataFrame met benoemde colommen"
   ]
  },
  {
   "cell_type": "code",
   "execution_count": null,
   "metadata": {},
   "outputs": [],
   "source": [
    "def HeaderMaker(PatientFile):\n",
    "    df_cleaned = pd.read_csv('/data/ortho/' + PatientFile, header=None)\n",
    "\n",
    "    df_cleaned = df_cleaned.rename(columns={0: \"thorax_r_x\", 1: \"thorax_r_y\", 2: \"thorax_r_z\"})\n",
    "    df_cleaned = df_cleaned.rename(columns={3: \"clavicula_r_x\", 4: \"clavicula_r_y\", 5: \"clavicula_r_z\"})\n",
    "    df_cleaned = df_cleaned.rename(columns={6: \"scapula_r_x\", 7: \"scapula_r_y\", 8: \"scapula_r_z\"})\n",
    "    df_cleaned = df_cleaned.rename(columns={9: \"humerus_r_x\", 10: \"humerus_r_y\", 11: \"humerus_r_z\"})\n",
    "    df_cleaned = df_cleaned.rename(columns={12: \"ellebooghoek_r\"})\n",
    "    df_cleaned = df_cleaned.rename(columns={15: \"thorax_l_x\", 16: \"thorax_l_y\", 17: \"thorax_l_z\"})\n",
    "    df_cleaned = df_cleaned.rename(columns={18: \"clavicula_l_x\", 19: \"clavicula_l_y\", 20: \"clavicula_l_z\"})\n",
    "    df_cleaned = df_cleaned.rename(columns={21: \"scapula_l_x\", 22: \"scapula_l_y\", 23: \"scapula_l_z\"})\n",
    "    df_cleaned = df_cleaned.rename(columns={24: \"humerus_l_x\", 25: \"humerus_l_y\", 26: \"humerus_l_z\"})\n",
    "    df_cleaned = df_cleaned.rename(columns={27: \"ellebooghoek_l\"})\n",
    "    \n",
    "    return df_cleaned"
   ]
  },
  {
   "cell_type": "markdown",
   "metadata": {},
   "source": [
    "<span style=\"color:DarkBlue; font-size:30px; font-weight: bold;\">-- SKLearn Information Matrix --</span>  \n",
    "laat de volgende elementen zien:\n",
    "- Negatives/ Positives\n",
    "- Recall\n",
    "- Precision\n",
    "- Accuracy\n",
    "  \n",
    "<span style=\"color:DarkBlue; font-size:20px; font-weight: bold;\">Inputs & Outputs</span>  \n",
    "<span style=\"color:DarkBlue; font-size:15px; font-weight: bold;\">Inputs</span>  \n",
    "<span style=\"font-weight: bold;\">- y_true:</span> dataframe van de echte y waarden  \n",
    "<span style=\"font-weight: bold;\">- y_predict:</span> dataframe van de voorspelde y waarden\n",
    "\n",
    "<span style=\"color:DarkBlue; font-size:15px; font-weight: bold;\">Output</span>  \n",
    "<span style=\"font-weight: bold;\">- Tabel:</span> Tabel en andere prints met de waardes"
   ]
  },
  {
   "cell_type": "code",
   "execution_count": 33,
   "metadata": {
    "scrolled": true
   },
   "outputs": [
    {
     "name": "stdout",
     "output_type": "stream",
     "text": [
      "Informationi matrix c4\n",
      "              pos    neg\n",
      "0  pred pos  3693   1433\n",
      "1  pred neg  3039  26124\n",
      "\n",
      "recall:  0.5485739750445633\n",
      "precision:  0.7204447912602419\n",
      "accuracy:  0.8695791653299892\n",
      "\n",
      "\n",
      "\n"
     ]
    }
   ],
   "source": [
    "from sklearn.metrics import mean_squared_error, \\\n",
    "recall_score, precision_score, accuracy_score, confusion_matrix\n",
    "\n",
    "y_true = Data['c1']['y_test']\n",
    "y_pred = Data['c1']['Model'].predict(Data['c1']['X_test'])\n",
    "\n",
    "TN, FP, FN, TP = confusion_matrix(y_true, y_pred).ravel()\n",
    "\n",
    "# tabel printen\n",
    "\n",
    "print('Informationi matrix %s' % cat)\n",
    "tab = [[\"pred pos\", TP, FP], [\"pred neg\", FN, TN]]\n",
    "print(pd.DataFrame(tab, columns=[\"\", \"pos\", \"neg\"]))\n",
    "print()\n",
    "print(\"recall: \", recall_score(y_true, y_pred))\n",
    "print(\"precision: \", precision_score(y_true, y_pred))\n",
    "print(\"accuracy: \", accuracy_score(y_true, y_pred))\n",
    "print('\\n\\n')"
   ]
  },
  {
   "cell_type": "markdown",
   "metadata": {},
   "source": [
    "<span style=\"color:DarkBlue; font-size:30px; font-weight: bold;\">-- A Simple Classifier --</span>  \n",
    "Een simpele logistic regression, makkelijk te kopieren om een classifier te maken.\n",
    "  \n",
    "<span style=\"color:DarkBlue; font-size:20px; font-weight: bold;\">Inputs & Outputs</span>  \n",
    "<span style=\"color:DarkBlue; font-size:15px; font-weight: bold;\">Inputs</span>  \n",
    "<span style=\"font-weight: bold;\">- Xcolumns:</span> Alle colommen van je dataframe die je als paramters wilt meenemen  \n",
    "<span style=\"font-weight: bold;\">- df:</span> Pandas DataFrame waar alle data in staat  \n",
    "<span style=\"font-weight: bold;\">- y:</span> De y waarde van de classifier, dit kan True of False zijn of een meerkeuze antwoord.\n",
    "\n",
    "\n",
    "<span style=\"color:DarkBlue; font-size:15px; font-weight: bold;\">Output</span>  \n",
    "<span style=\"font-weight: bold;\">- lr:</span> Een getraint SKlearn model  \n",
    "<span style=\"font-weight: bold;\">- X_train,  X_test, y_train, y_test:</span> Een gesplitte dataset die later gebruikt worden. 4 Pandas DataFrames  \n",
    "<span style=\"font-weight: bold;\">- y_pred:</span> Pandas DataFrame, een voorspelling gemaakt door de test set"
   ]
  },
  {
   "cell_type": "code",
   "execution_count": 13,
   "metadata": {},
   "outputs": [],
   "source": [
    "from sklearn.model_selection import train_test_split\n",
    "\n",
    "Xcolumns = ['Bias']\n",
    "Xcolumns.extend(['thorax_r_x', 'thorax_r_y', 'thorax_r_z', 'clavicula_r_x', 'clavicula_r_y',\n",
    " 'clavicula_r_z', 'scapula_r_x', 'scapula_r_y', 'scapula_r_z', 'humerus_r_x',\n",
    " 'humerus_r_y', 'humerus_r_z', 'ellebooghoek_r', 'thorax_l_x',\n",
    " 'thorax_l_y', 'thorax_l_z', 'clavicula_l_x', 'clavicula_l_y', 'clavicula_l_z',\n",
    " 'scapula_l_x', 'scapula_l_y', 'scapula_l_z', 'humerus_l_x', 'humerus_l_y',\n",
    " 'humerus_l_z', 'ellebooghoek_l'])\n",
    "\n",
    "X = df[Xcolumns]\n",
    "y = df[['GroundTruth']]\n",
    "\n",
    "# Split training set\n",
    "X_train, X_test, y_train, y_test = train_test_split(X, y, test_size = 0.2, random_state=42)\n",
    "\n",
    "# Learn model\n",
    "lr = LogisticRegression()\n",
    "lr.fit(X_train, y_train)\n",
    "\n",
    "#Predict test set\n",
    "y_pred = lr.predict(X_test)\n",
    "\n"
   ]
  },
  {
   "cell_type": "markdown",
   "metadata": {},
   "source": [
    "<span style=\"color:DarkBlue; font-size:30px; font-weight: bold;\">-- New Correct Data Splitter --</span>  \n",
    "Data splitter die de train en test data genereerd uit een groot dataframe. Er wordt per catergorie een percentage patienten gepakt, om zo een correcte dataset te maken. Met deze functie worden patienten van het algrotithme verhouden tot de test.\n",
    "  \n",
    "<span style=\"color:DarkBlue; font-size:20px; font-weight: bold;\">Inputs & Outputs</span>  \n",
    "<span style=\"color:DarkBlue; font-size:15px; font-weight: bold;\">Inputs</span>  \n",
    "<span style=\"font-weight: bold;\">- df:</span> Het grote dataframe met alle colommen, belangrijk is de colom 'pat'  \n",
    "<span style=\"font-weight: bold;\">- xcol:</span> Een lijst met alle colommen die gebruikt worden als paramters  \n",
    "<span style=\"font-weight: bold;\">- ycol:</span> Één colomnaam als string  \n",
    "<span style=\"font-weight: bold;\">- percentage:</span> Een float met het percentage van getallen die als training set gebruikt moet worden (in voorbeeld 0.8)\n",
    "\n",
    "<span style=\"color:DarkBlue; font-size:15px; font-weight: bold;\">Output</span>  \n",
    "<span style=\"font-weight: bold;\">- X_Train:</span> Dataframe met alle parameters als colommen  \n",
    "<span style=\"font-weight: bold;\">- X_Test:</span> Series met de y waardes  \n",
    "<span style=\"font-weight: bold;\">- y_train:</span> Dataframe met alle parameters als colommen  \n",
    "<span style=\"font-weight: bold;\">- y_test:</span> Series met de y waardes  "
   ]
  },
  {
   "cell_type": "code",
   "execution_count": null,
   "metadata": {},
   "outputs": [],
   "source": [
    "def SplitData(df, xcol, ycol, percentage):\n",
    "    allIndex = np.unique(df['pat'].tolist()) # Get all unique patients id's\n",
    "    random.seed(2) # Set random seeed so the answer is the same\n",
    "    \n",
    "    PercentageIndex = []\n",
    "    for i in np.unique(np.floor(allIndex / 1000)): # Cycle through each categorie (only cycles through the ones that are present)\n",
    "        CatPatients = allIndex[allIndex<((i+1)*1000)] # Filters out patients who are bigger then our max\n",
    "        CatPatients = CatPatients[CatPatients>=((i)*1000)] # Filters out patients that are smaller\n",
    "        \n",
    "        AmountItems = len(CatPatients)\n",
    "        AmountRandom = math.floor(AmountItems*percentage)\n",
    "        PercentageIndex.extend(random.sample(list(CatPatients), AmountRandom))        \n",
    "        \n",
    "    AmountItems = len(allIndex)\n",
    "    AmountRandom = math.floor(AmountItems*percentage)\n",
    "    \n",
    "    PercentageIndex = random.sample(list(allIndex), AmountRandom)\n",
    "    \n",
    "    Percentagedf = df[xcol][df['pat'].isin(PercentageIndex)]\n",
    "    Percentagey = df[ycol][df['pat'].isin(PercentageIndex)]\n",
    "    \n",
    "    Testdf = df[xcol][~df['pat'].isin(PercentageIndex)]\n",
    "    Testy = df[ycol][~df['pat'].isin(PercentageIndex)]\n",
    "    \n",
    "    return (Percentagedf, Testdf, Percentagey, Testy)\n",
    "\n",
    "X_train, X_test, y_train, y_test = SplitData(df_cleaned, Xcolumns, 'cat', 0.8)"
   ]
  }
 ],
 "metadata": {
  "kernelspec": {
   "display_name": "Python 3",
   "language": "python",
   "name": "python3"
  },
  "language_info": {
   "codemirror_mode": {
    "name": "ipython",
    "version": 3
   },
   "file_extension": ".py",
   "mimetype": "text/x-python",
   "name": "python",
   "nbconvert_exporter": "python",
   "pygments_lexer": "ipython3",
   "version": "3.6.7"
  }
 },
 "nbformat": 4,
 "nbformat_minor": 2
}
