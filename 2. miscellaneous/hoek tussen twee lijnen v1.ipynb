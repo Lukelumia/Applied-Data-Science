{
 "cells": [
  {
   "cell_type": "code",
   "execution_count": 44,
   "metadata": {},
   "outputs": [],
   "source": [
    "import matplotlib.pyplot as plt\n",
    "from matplotlib.lines import Line2D\n",
    "from matplotlib.patches import Arc\n",
    "import math"
   ]
  },
  {
   "cell_type": "code",
   "execution_count": 85,
   "metadata": {},
   "outputs": [],
   "source": [
    "def get_angle_plot(line1, line2, offset = 1, color = None, origin = [0,0], len_x_axis = 1, len_y_axis = 1):\n",
    "\n",
    "    l1xy = line1.get_xydata()\n",
    "#     print(l1xy)\n",
    "    # Angle between line1 and x-axis\n",
    "    slope1 = (l1xy[1][1] - l1xy[0][1]) / float(l1xy[1][0] - l1xy[0][0])\n",
    "    angle1 = abs(math.degrees(math.atan(slope1))) # Taking only the positive angle\n",
    "    \n",
    "    l2xy = line2.get_xydata()\n",
    "    print('l2xy:\\n %s' % l2xy)\n",
    "    # Angle between line2 and x-axis\n",
    "    # X Y (start point) (0, 0)\n",
    "    # X Y (end point) (0, 0)\n",
    "    # slope2 = (EPY - SPY) / (EPX - SPX)\n",
    "    slope2 = (l2xy[1][1] - l2xy[0][1]) / float(l2xy[1][0] - l2xy[0][0])\n",
    "    print('slope2 Radians: %s \\n' % slope2)\n",
    "    angle2 = abs(math.degrees(math.atan(slope2)))\n",
    "\n",
    "    theta1 = min(angle1, angle2)\n",
    "    theta2 = max(angle1, angle2)\n",
    "\n",
    "    angle = theta2 - theta1\n",
    "\n",
    "    if color is None:\n",
    "        color = line1.get_color() # Uses the color of line 1 if color parameter is not passed.\n",
    "\n",
    "    return Arc(origin, len_x_axis*offset, len_y_axis*offset, 0, theta1, theta2, color=color, label = str(angle)+u\"\\u00b0\")\n",
    "\n",
    "def get_angle_text(angle_plot):\n",
    "    angle = angle_plot.get_label()[:-1] # Excluding the degree symbol\n",
    "    angle = \"%0.2f\"%float(angle)+u\"\\u00b0\" # Display angle upto 2 decimal places\n",
    "\n",
    "    # Get the vertices of the angle arc\n",
    "    vertices = angle_plot.get_verts()\n",
    "    print(vertices)\n",
    "    # Get the midpoint of the arc extremes\n",
    "    x_width = (vertices[0][0] + vertices[-1][0]) / 2.0\n",
    "    y_width = (vertices[0][5] + vertices[-1][6]) / 2.0\n",
    "\n",
    "    #print x_width, y_width\n",
    "\n",
    "    separation_radius = max(x_width/2.0, y_width/2.0)\n",
    "\n",
    "    return [ x_width + separation_radius, y_width + separation_radius, angle]       "
   ]
  },
  {
   "cell_type": "code",
   "execution_count": 86,
   "metadata": {
    "scrolled": false
   },
   "outputs": [
    {
     "name": "stdout",
     "output_type": "stream",
     "text": [
      "l2xy:\n",
      " [[ 0.   0. ]\n",
      " [ 4.5  3. ]]\n",
      "slope2 Radians: 0.666666666667 \n",
      "\n",
      "l2xy:\n",
      " [[ 0.  0.]\n",
      " [ 7.  1.]]\n",
      "slope2 Radians: 0.142857142857 \n",
      "\n"
     ]
    },
    {
     "data": {
      "text/plain": [
       "<matplotlib.patches.Arc at 0x7fa9c2fdeda0>"
      ]
     },
     "execution_count": 86,
     "metadata": {},
     "output_type": "execute_result"
    }
   ],
   "source": [
    "fig = plt.figure()\n",
    "\n",
    "line_1 = Line2D([0,1], [0,4], linewidth=1, linestyle = \"-\", color=\"green\")\n",
    "line_2 = Line2D([0,4.5], [0,3], linewidth=1, linestyle = \"-\", color=\"red\")\n",
    "\n",
    "ax = fig.add_subplot(1,1,1)\n",
    "\n",
    "ax.add_line(line_1)\n",
    "ax.add_line(line_2)\n",
    "\n",
    "angle_plot = get_angle_plot(line_1, line_2, 1)\n",
    "# angle_text = get_angle_text(angle_plot) \n",
    "# Gets the arguments to be passed to ax.text as a list to display the angle value besides the arc\n",
    "# print('angle: %s' % angle_plot)\n",
    "ax.add_patch(angle_plot) # To display the angle arc\n",
    "# ax.text(*angle_text) # To display the angle value\n",
    "\n",
    "ax.set_xlim(0,7)\n",
    "ax.set_ylim(0,5)\n",
    "\n",
    "\n",
    "line_3 = Line2D([0,7], [0,1], linewidth=1, linestyle = \"-\", color=\"brown\")\n",
    "ax.add_line(line_3)\n",
    "angle_plot = get_angle_plot(line_1, line_3, 2, color=\"red\") # Second angle arc will be red in color\n",
    "# angle_text = get_angle_text(angle_plot)\n",
    "\n",
    "ax.add_patch(angle_plot) # To display the 2nd angle arc\n",
    "# ax.text(*angle_text) # To display the 2nd angle value"
   ]
  },
  {
   "cell_type": "code",
   "execution_count": 74,
   "metadata": {
    "scrolled": true
   },
   "outputs": [
    {
     "data": {
      "image/png": "[encoded data removed]",
      "text/plain": [
       "<matplotlib.figure.Figure at 0x7fa9c32642e8>"
      ]
     },
     "metadata": {},
     "output_type": "display_data"
    }
   ],
   "source": [
    "plt.legend()\n",
    "plt.show()"
   ]
  },
  {
   "cell_type": "code",
   "execution_count": null,
   "metadata": {},
   "outputs": [],
   "source": []
  }
 ],
 "metadata": {
  "kernelspec": {
   "display_name": "Python 3",
   "language": "python",
   "name": "python3"
  },
  "language_info": {
   "codemirror_mode": {
    "name": "ipython",
    "version": 3
   },
   "file_extension": ".py",
   "mimetype": "text/x-python",
   "name": "python",
   "nbconvert_exporter": "python",
   "pygments_lexer": "ipython3",
   "version": "3.6.6"
  }
 },
 "nbformat": 4,
 "nbformat_minor": 2
}
